{
 "cells": [
  {
   "cell_type": "markdown",
   "id": "8c0e4071",
   "metadata": {},
   "source": [
    "# ACM20030  Assignment 1 "
   ]
  },
  {
   "cell_type": "markdown",
   "id": "0d1a2168",
   "metadata": {},
   "source": [
    "Qeustion 0 \n",
    "here I will import the relavent libarys for this assigment"
   ]
  },
  {
   "cell_type": "code",
   "execution_count": 1,
   "id": "c8e36417",
   "metadata": {},
   "outputs": [],
   "source": [
    "import math, cmath\n",
    "import numpy as np\n",
    "import matplotlib.pyplot as plt"
   ]
  },
  {
   "cell_type": "markdown",
   "id": "a147a7d0",
   "metadata": {},
   "source": [
    "## Qeustion 1"
   ]
  },
  {
   "cell_type": "markdown",
   "id": "b8064fbb",
   "metadata": {},
   "source": [
    "### 1 a) \n",
    "Write a function with signature VectorLength(x, y) that computes the length of a vector with cartesian coordinates (x, y)."
   ]
  },
  {
   "cell_type": "code",
   "execution_count": 2,
   "id": "e39c9fd0",
   "metadata": {},
   "outputs": [],
   "source": [
    "def VectorLength(x, y):\n",
    "    result = math.sqrt(x**2 + y**2)\n",
    "    return result"
   ]
  },
  {
   "cell_type": "markdown",
   "id": "95446d60",
   "metadata": {},
   "source": [
    "### 1 b)\n",
    "Using the VectorLength(x, y) function to print length v = (5, 6) v = (-1, 5)"
   ]
  },
  {
   "cell_type": "code",
   "execution_count": 3,
   "id": "0bb1ee7d",
   "metadata": {},
   "outputs": [
    {
     "data": {
      "text/plain": [
       "7.810249675906654"
      ]
     },
     "execution_count": 3,
     "metadata": {},
     "output_type": "execute_result"
    }
   ],
   "source": [
    "VectorLength(5, 6)"
   ]
  },
  {
   "cell_type": "code",
   "execution_count": 4,
   "id": "2651ac58",
   "metadata": {},
   "outputs": [
    {
     "data": {
      "text/plain": [
       "5.0990195135927845"
      ]
     },
     "execution_count": 4,
     "metadata": {},
     "output_type": "execute_result"
    }
   ],
   "source": [
    "VectorLength(-1, 5)"
   ]
  },
  {
   "cell_type": "code",
   "execution_count": 5,
   "id": "205ce7fa",
   "metadata": {},
   "outputs": [
    {
     "name": "stdout",
     "output_type": "stream",
     "text": [
      "the length of the vectors are 5.0990195135927845 and 5.0990195135927845\n"
     ]
    }
   ],
   "source": [
    "print(\"the length of the vectors are 5.0990195135927845 and 5.0990195135927845\" )"
   ]
  },
  {
   "cell_type": "markdown",
   "id": "e1295077",
   "metadata": {},
   "source": [
    "### 1 c)\n",
    "Modify the following command to print the result to only three decimal places"
   ]
  },
  {
   "cell_type": "code",
   "execution_count": 6,
   "id": "3fa0eb6d",
   "metadata": {},
   "outputs": [
    {
     "name": "stdout",
     "output_type": "stream",
     "text": [
      "sin(1)=  0.841\n"
     ]
    }
   ],
   "source": [
    "print(\"sin(1)= \",format( np.sin(1), \".3f\"))"
   ]
  },
  {
   "cell_type": "markdown",
   "id": "954f479b",
   "metadata": {},
   "source": [
    "# Question 2"
   ]
  },
  {
   "cell_type": "code",
   "execution_count": 7,
   "id": "638c03d8",
   "metadata": {},
   "outputs": [],
   "source": [
    "# function to check if number is prime \n",
    "def IsPrime(n):\n",
    "    i = 2\n",
    "    while i < np.sqrt(n):\n",
    "            # for each i  check if it divides n\n",
    "            if(n % i == 0):\n",
    "                return 0 \n",
    "            i += 1 \n",
    "            \n",
    "        #if no divisors are found the numder is prime return \n",
    "    return 1 "
   ]
  },
  {
   "cell_type": "markdown",
   "id": "50e20220",
   "metadata": {},
   "source": [
    "### 2 a)\n",
    "Does the function work correctly? Check the values from 1 to 10"
   ]
  },
  {
   "cell_type": "code",
   "execution_count": 8,
   "id": "c7decf06",
   "metadata": {},
   "outputs": [
    {
     "name": "stdout",
     "output_type": "stream",
     "text": [
      "1\n",
      "1\n",
      "1\n",
      "1\n",
      "1\n",
      "0\n",
      "1\n",
      "0\n",
      "1\n",
      "0\n"
     ]
    }
   ],
   "source": [
    "# checking values 1-10\n",
    "for i in range(1,11):\n",
    "    print(IsPrime(i));"
   ]
  },
  {
   "cell_type": "markdown",
   "id": "dfeafb5b",
   "metadata": {},
   "source": [
    "clear to see code does not work as 1,4, and 9 are not prime but the returend results from the code says they are"
   ]
  },
  {
   "cell_type": "markdown",
   "id": "98c15adc",
   "metadata": {},
   "source": [
    "### 2b)\n",
    "At the start of the function add an if-statement to correct the n=1 case\n"
   ]
  },
  {
   "cell_type": "code",
   "execution_count": 9,
   "id": "6d22af88",
   "metadata": {},
   "outputs": [],
   "source": [
    "# function to check if number is prime \n",
    "\n",
    "\n",
    "def IsPrime(n):\n",
    "    if n == 1:\n",
    "        return  0 \n",
    "    else:\n",
    " \n",
    "        i = 2\n",
    "        while i < np.sqrt(n):\n",
    "# for each i  check if it divides n\n",
    "            if(n % i == 0):\n",
    "                return 0 \n",
    "            i += 1 \n",
    "            \n",
    "# if no divisors are found the numder is prime return \n",
    "        return 1 \n",
    "\n",
    "    \n",
    "# function to check if number is prime \n"
   ]
  },
  {
   "cell_type": "code",
   "execution_count": 10,
   "id": "1a675878",
   "metadata": {},
   "outputs": [
    {
     "name": "stdout",
     "output_type": "stream",
     "text": [
      "0\n"
     ]
    }
   ],
   "source": [
    "for i in range(1,2):\n",
    "    print(IsPrime(i));\n",
    "    "
   ]
  },
  {
   "cell_type": "markdown",
   "id": "bc093c48",
   "metadata": {},
   "source": [
    "The adove line askes to ruturn if 1 is prime or not as the returnt value is 0 this means it is not prime.there for the if-statement to correct the n=1 case worked correctly"
   ]
  },
  {
   "cell_type": "markdown",
   "id": "d94f73fc",
   "metadata": {},
   "source": [
    "### 2 c)\n",
    "By putting a print statement inside the while loop, work out why the function doesnt work and fix function to make it work."
   ]
  },
  {
   "cell_type": "code",
   "execution_count": 12,
   "id": "7986cfd2",
   "metadata": {},
   "outputs": [],
   "source": [
    "# function to check if number is prime \n",
    "\n",
    "\n",
    "def IsPrime(n):\n",
    "    if n == 1:\n",
    "        return  0 \n",
    "    else:\n",
    " \n",
    "        i = 2\n",
    "        while i <= np.sqrt(n):\n",
    "#so function did not check for squares it didnt check properly for perct sqaur now it will work for 4 and 9\n",
    "# for each i  check if it divides n\n",
    "            if(n % i == 0):\n",
    "                return 0 \n",
    "            i += 1 \n",
    "            \n",
    "# if no divisors are found the numder is prime return \n",
    "        return 1 \n"
   ]
  },
  {
   "cell_type": "code",
   "execution_count": 13,
   "id": "11517101",
   "metadata": {},
   "outputs": [
    {
     "name": "stdout",
     "output_type": "stream",
     "text": [
      "0\n",
      "1\n",
      "1\n",
      "0\n",
      "1\n",
      "0\n",
      "1\n",
      "0\n",
      "0\n",
      "0\n"
     ]
    }
   ],
   "source": [
    "# checking values 1-10\n",
    "for i in range(1,11):\n",
    "    print(IsPrime(i));"
   ]
  },
  {
   "cell_type": "code",
   "execution_count": null,
   "id": "c683ff7a",
   "metadata": {},
   "outputs": [],
   "source": [
    "The fuction is fixed"
   ]
  },
  {
   "cell_type": "markdown",
   "id": "da68ce39",
   "metadata": {},
   "source": [
    "### 2e)\n",
    "Using the corrected IsPrime function, to calculates the number of prime numbers less than 1000."
   ]
  },
  {
   "cell_type": "code",
   "execution_count": 14,
   "id": "7e419129",
   "metadata": {},
   "outputs": [
    {
     "name": "stdout",
     "output_type": "stream",
     "text": [
      "168\n"
     ]
    }
   ],
   "source": [
    "count = 0\n",
    "for i in range(1,1000):\n",
    "    count += (IsPrime(i));\n",
    "    \n",
    "print(count)\n",
    "\n",
    "# this works as started count at zero and only prime numder and a value  of 1 "
   ]
  },
  {
   "cell_type": "markdown",
   "id": "5562cb7d",
   "metadata": {},
   "source": [
    "### 2 f) \n",
    "The prime counting function is defined to be the number of primes less than or equal to . By using your answer to part e) write a function with signature\n",
    "PrimeCount(x)  \n"
   ]
  },
  {
   "cell_type": "code",
   "execution_count": 15,
   "id": "1794301e",
   "metadata": {},
   "outputs": [
    {
     "name": "stdout",
     "output_type": "stream",
     "text": [
      "25\n",
      "168\n",
      "1229\n"
     ]
    }
   ],
   "source": [
    "#defining a fuction\n",
    "def Primecount(x):\n",
    "#starting count at 0 \n",
    "    Primecount = 0\n",
    "    for i in range(1,x):\n",
    "#adding in each prime in the range adove \n",
    "        Primecount += (IsPrime(i))\n",
    "    return Primecount \n",
    "#checking values \n",
    "print(Primecount(100))\n",
    "print(Primecount(1000)) \n",
    "print(Primecount(10000))\n",
    "# values printed match those on  http://mathworld.wolfram.com/PrimeCountingFunction.html. so fuction defined properly \n"
   ]
  },
  {
   "cell_type": "markdown",
   "id": "e9522bfd",
   "metadata": {},
   "source": [
    "### 2 g) \n",
    "The following code will plot the PrimeCounting function for values less than 40\n"
   ]
  },
  {
   "cell_type": "code",
   "execution_count": 20,
   "id": "3a6e01e9",
   "metadata": {},
   "outputs": [],
   "source": [
    "x = np.arange(0,40,1)\n",
    "Pi = np.zeros(40)\n",
    "i = 0\n",
    "\n",
    "while i < np.size(Pi): \n",
    "    Pi[i] = Primecount(i)\n",
    "    i += 1"
   ]
  },
  {
   "cell_type": "code",
   "execution_count": 22,
   "id": "f15cf9ff",
   "metadata": {},
   "outputs": [
    {
     "data": {
      "image/png": "[encoded data removed]",
      "text/plain": [
       "<Figure size 432x288 with 1 Axes>"
      ]
     },
     "metadata": {
      "needs_background": "light"
     },
     "output_type": "display_data"
    }
   ],
   "source": [
    "plt.plot(x, Pi, 'ro')\n",
    "plt.xlabel(\"x\")\n",
    "plt.ylabel(\"Pi(x)\")\n",
    "plt.grid(True)"
   ]
  },
  {
   "cell_type": "markdown",
   "id": "04559739",
   "metadata": {},
   "source": [
    "# Qeustion 3"
   ]
  },
  {
   "cell_type": "markdown",
   "id": "9eab51d4",
   "metadata": {},
   "source": [
    "### 3 a)\n",
    "Download the file PowerLawOrExponential.txt ACM20030-Assignments-2021-22 folder. Commit this file to the repository and push the changes to GitHub"
   ]
  },
  {
   "cell_type": "markdown",
   "id": "750c899c",
   "metadata": {},
   "source": [
    "### 3 b)\n",
    "Load the data Define an ‘x’ and ‘y’ variable usage the data in the first and second columns.\n"
   ]
  },
  {
   "cell_type": "code",
   "execution_count": 24,
   "id": "874328da",
   "metadata": {},
   "outputs": [
    {
     "name": "stdout",
     "output_type": "stream",
     "text": [
      "[ 0.1  0.2  0.3  0.4  0.5  0.6  0.7  0.8  0.9  1.   1.1  1.2  1.3  1.4\n",
      "  1.5  1.6  1.7  1.8  1.9  2.   2.1  2.2  2.3  2.4  2.5  2.6  2.7  2.8\n",
      "  2.9  3.   3.1  3.2  3.3  3.4  3.5  3.6  3.7  3.8  3.9  4.   4.1  4.2\n",
      "  4.3  4.4  4.5  4.6  4.7  4.8  4.9  5.   5.1  5.2  5.3  5.4  5.5  5.6\n",
      "  5.7  5.8  5.9  6.   6.1  6.2  6.3  6.4  6.5  6.6  6.7  6.8  6.9  7.\n",
      "  7.1  7.2  7.3  7.4  7.5  7.6  7.7  7.8  7.9  8.   8.1  8.2  8.3  8.4\n",
      "  8.5  8.6  8.7  8.8  8.9  9.   9.1  9.2  9.3  9.4  9.5  9.6  9.7  9.8\n",
      "  9.9 10. ]\n",
      "[1.000e-02 4.000e-02 9.000e-02 1.600e-01 2.500e-01 3.600e-01 4.900e-01\n",
      " 6.400e-01 8.100e-01 1.000e+00 1.210e+00 1.440e+00 1.690e+00 1.960e+00\n",
      " 2.250e+00 2.560e+00 2.890e+00 3.240e+00 3.610e+00 4.000e+00 4.410e+00\n",
      " 4.840e+00 5.290e+00 5.760e+00 6.250e+00 6.760e+00 7.290e+00 7.840e+00\n",
      " 8.410e+00 9.000e+00 9.610e+00 1.024e+01 1.089e+01 1.156e+01 1.225e+01\n",
      " 1.296e+01 1.369e+01 1.444e+01 1.521e+01 1.600e+01 1.681e+01 1.764e+01\n",
      " 1.849e+01 1.936e+01 2.025e+01 2.116e+01 2.209e+01 2.304e+01 2.401e+01\n",
      " 2.500e+01 2.601e+01 2.704e+01 2.809e+01 2.916e+01 3.025e+01 3.136e+01\n",
      " 3.249e+01 3.364e+01 3.481e+01 3.600e+01 3.721e+01 3.844e+01 3.969e+01\n",
      " 4.096e+01 4.225e+01 4.356e+01 4.489e+01 4.624e+01 4.761e+01 4.900e+01\n",
      " 5.041e+01 5.184e+01 5.329e+01 5.476e+01 5.625e+01 5.776e+01 5.929e+01\n",
      " 6.084e+01 6.241e+01 6.400e+01 6.561e+01 6.724e+01 6.889e+01 7.056e+01\n",
      " 7.225e+01 7.396e+01 7.569e+01 7.744e+01 7.921e+01 8.100e+01 8.281e+01\n",
      " 8.464e+01 8.649e+01 8.836e+01 9.025e+01 9.216e+01 9.409e+01 9.604e+01\n",
      " 9.801e+01 1.000e+02]\n"
     ]
    }
   ],
   "source": [
    "import numpy as np\n",
    "# imporatnting data\n",
    "filename = 'PowerLawOrExponential.txt'\n",
    "data=np.loadtxt(\"PowerLawOrExponential.txt\")\n",
    "\n",
    "#execting x variable usage the data in the first  column\n",
    "x= data[:,0]\n",
    "print(x)\n",
    "#execting y variable usage the data in the second column\n",
    "y= data[:,1]\n",
    "print(y)"
   ]
  },
  {
   "cell_type": "markdown",
   "id": "7b17836d",
   "metadata": {},
   "source": [
    "### 3 c)\n",
    "Make two plots showing the data (i)log (ii)log-log scales"
   ]
  },
  {
   "cell_type": "code",
   "execution_count": 26,
   "id": "3965ccf6",
   "metadata": {},
   "outputs": [],
   "source": [
    "logx =np.log(x)\n",
    "logy =np.log(y)"
   ]
  },
  {
   "cell_type": "code",
   "execution_count": 27,
   "id": "f77dedbc",
   "metadata": {},
   "outputs": [
    {
     "data": {
      "text/plain": [
       "Text(0.5, 1.0, 'log plot,  x vs logy')"
      ]
     },
     "execution_count": 27,
     "metadata": {},
     "output_type": "execute_result"
    },
    {
     "data": {
      "image/png": "[encoded data removed]",
      "text/plain": [
       "<Figure size 432x288 with 1 Axes>"
      ]
     },
     "metadata": {
      "needs_background": "light"
     },
     "output_type": "display_data"
    }
   ],
   "source": [
    "# part i\n",
    "plt.plot(x, logy,  '.k')\n",
    "plt.xlabel(\"x\")\n",
    "plt.ylabel(\"logy\")\n",
    "plt.grid(True)\n",
    "plt.title(\"log plot,  x vs logy\")"
   ]
  },
  {
   "cell_type": "code",
   "execution_count": 28,
   "id": "a58da389",
   "metadata": {},
   "outputs": [
    {
     "data": {
      "text/plain": [
       "Text(0.5, 1.0, 'log-log plot, logx vs logy')"
      ]
     },
     "execution_count": 28,
     "metadata": {},
     "output_type": "execute_result"
    },
    {
     "data": {
      "image/png": "[encoded data removed]",
      "text/plain": [
       "<Figure size 432x288 with 1 Axes>"
      ]
     },
     "metadata": {
      "needs_background": "light"
     },
     "output_type": "display_data"
    }
   ],
   "source": [
    "# part ii\n",
    "plt.plot(logx, logy,  '.k')\n",
    "plt.xlabel(\"logx\")\n",
    "plt.ylabel(\"logy\")\n",
    "plt.grid(True)\n",
    "plt.title(\"log-log plot, logx vs logy\")"
   ]
  },
  {
   "cell_type": "markdown",
   "id": "f36fe044",
   "metadata": {},
   "source": [
    "### 3 d)\n",
    "Is the data a discrete representation of the $x^n  or  $e^(n*x)\n"
   ]
  },
  {
   "cell_type": "markdown",
   "id": "74c3a4f9",
   "metadata": {},
   "source": [
    "it is (x^n) as it fits the loglog plot here log(y)=log((x^n)) so log(y)=(nx) my y = mx +c the eqaution of a straight line you can see log(y)=nx where n is now the slope of the straight line seen in graph ii"
   ]
  },
  {
   "cell_type": "markdown",
   "id": "1b90500c",
   "metadata": {},
   "source": [
    "### 3 e)\n",
    "By examining the plots, determine the value of n"
   ]
  },
  {
   "cell_type": "code",
   "execution_count": 29,
   "id": "5a7e9690",
   "metadata": {},
   "outputs": [
    {
     "name": "stdout",
     "output_type": "stream",
     "text": [
      "2.000000000000001\n"
     ]
    },
    {
     "data": {
      "image/png": "[encoded data removed]",
      "text/plain": [
       "<Figure size 432x288 with 1 Axes>"
      ]
     },
     "metadata": {
      "needs_background": "light"
     },
     "output_type": "display_data"
    }
   ],
   "source": [
    "plt.plot(logx, logy,  '.k')\n",
    "plt.xlabel(\"logx\")\n",
    "plt.ylabel(\"logy\")\n",
    "plt.grid(True)\n",
    "plt.title(\"log-log plot, logx vs logy\")\n",
    "m, b = np.polyfit(logx, logy, 1)\n",
    "print(m)"
   ]
  },
  {
   "cell_type": "markdown",
   "id": "ac954fc5",
   "metadata": {},
   "source": [
    "so here the value of n is 2 and the date fits the function y=x*2\n",
    "\n"
   ]
  },
  {
   "cell_type": "code",
   "execution_count": null,
   "id": "bd4ce704",
   "metadata": {},
   "outputs": [],
   "source": []
  }
 ],
 "metadata": {
  "kernelspec": {
   "display_name": "Python 3",
   "language": "python",
   "name": "python3"
  },
  "language_info": {
   "codemirror_mode": {
    "name": "ipython",
    "version": 3
   },
   "file_extension": ".py",
   "mimetype": "text/x-python",
   "name": "python",
   "nbconvert_exporter": "python",
   "pygments_lexer": "ipython3",
   "version": "3.8.8"
  }
 },
 "nbformat": 4,
 "nbformat_minor": 5
}
